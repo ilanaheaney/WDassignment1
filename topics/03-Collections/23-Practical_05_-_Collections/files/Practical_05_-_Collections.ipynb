{
  "cells": [
    {
      "cell_type": "markdown",
      "metadata": {
        "id": "view-in-github",
        "colab_type": "text"
      },
      "source": [
        "<a href=\"https://colab.research.google.com/github/ilanaheaney/WDassignment1/blob/main/topics/03-Collections/23-Practical_05_-_Collections/files/Practical_05_-_Collections.ipynb\" target=\"_parent\"><img src=\"https://colab.research.google.com/assets/colab-badge.svg\" alt=\"Open In Colab\"/></a>"
      ]
    },
    {
      "cell_type": "markdown",
      "metadata": {
        "label": "title",
        "id": "ORmep5oKt7gF"
      },
      "source": [
        "# Practical 05 - Collections"
      ]
    },
    {
      "cell_type": "markdown",
      "metadata": {
        "label": "setup",
        "id": "9fprhznRt7gI"
      },
      "source": [
        "## Setup"
      ]
    },
    {
      "cell_type": "code",
      "execution_count": 1,
      "metadata": {
        "cellView": "form",
        "label": "bio",
        "id": "99Lkqxc1t7gJ"
      },
      "outputs": [],
      "source": [
        "#@markdown **Please enter your following details and press Shift-Enter to save:**\n",
        "your_student_number = '20112445' #@param {type: \"string\"}\n",
        "your_name = 'Ilana Heaney' #@param {type: \"string\"}"
      ]
    },
    {
      "cell_type": "code",
      "execution_count": null,
      "metadata": {
        "label": "setup",
        "id": "DPlYFrD2t7gK"
      },
      "outputs": [],
      "source": [
        "# setup magic, do not edit this cell! Just press Shift+Enter or click on arrow at top-left\n",
        "\n",
        "import urllib.request\n",
        "content = urllib.request.urlretrieve (\"https://setu-discretemathematics.github.io/live/files/setup_practical_magic.py\")\n",
        "exec(open(content[0]).read())\n",
        "setup_practical(locals(),_ih)"
      ]
    },
    {
      "cell_type": "markdown",
      "metadata": {
        "label": "Introduction",
        "id": "vQPtix0yt7gL"
      },
      "source": [
        "---\n",
        "## Introduction\n",
        "\n",
        "In this practical we will use Python to work with data collections. We will use the following collections:\n",
        "\n",
        "* Sets  &mdash; unordered collections of distinct (unique) elements\n",
        "* Lists  &mdash; ordered collections of elements (may or may not be distinct)\n",
        "* Tuples &mdash; like lists but immutable (cannot be changed)\n",
        "* Strings &mdash; like a list of characters (but immutable)\n",
        "\n",
        "In typical applications we regularly use multiple collections in combination to solve problems and convert between collections to get the desired functionality. For example, we\n",
        "\n",
        "* convert a `list`/`tuple`` to a `set`` to remove duplicates.\n",
        "* convert a `str` to a `list` to manipulate the characters.\n",
        "* convert a `set` to a `list` to sort the elements.\n",
        "* convert a `list` to a `str` to display the result (use str method `join`).\n",
        "\n",
        "* convert a `tuple` to a `list` to change the elements.\n",
        "* convert a `list` to a `tuple` to make it immutable (and faster to work with).\n",
        "\n",
        "* and on and on ..."
      ]
    },
    {
      "cell_type": "markdown",
      "metadata": {
        "id": "6oR4rB9Rt7gM"
      },
      "source": [
        "### Python Concepts\n",
        "\n",
        "* Size of collection: To get the number of elements in a collection we use the `len` function.\n",
        "\n",
        "~~~python\n",
        "    A = {1,5,7, {3,4}}\n",
        "    len(A) # returns 4\n",
        "~~~\n",
        "\n",
        " * To convert from a `set` to a `list` use the `list` function:\n",
        "\n",
        "~~~python\n",
        "    A = {1,5,7, {3,4}}\n",
        "    list(A) # returns [1,5,7, {3,4}]\n",
        "~~~\n",
        "\n",
        "Notice that the `set` is converted to a `list` but the `set` within the `set` is not converted to a `list`!\n",
        "\n",
        "* To convert from a `list` to a `set` use the `set` function:\n",
        "\n",
        "~~~python\n",
        "    A = [1,5,7]\n",
        "    set(A) # returns {1,5,7}   \n",
        "~~~\n",
        "\n",
        "* set/list comprehension: Are a concise way to create `sets`/`lists`. For example, to create a `list` of the squares of numbers from -5 to 5 we can use:\n",
        "\n",
        "~~~python\n",
        "    A = [x**2 for x in range(-5,6)]\n",
        "    print(A) # returns [25, 16, 9, 4, 1, 0, 1, 4, 9, 16, 25]\n",
        "~~~\n",
        "\n",
        "And to create a set of the squares of numbers from -5 to 5 we can use:\n",
        "\n",
        "~~~python\n",
        "    A = {x**2 for x in range(1,11)}\n",
        "    print(A) # returns {0, 1, 4, 9, 16, 25}\n",
        "~~~\n",
        "\n",
        "Or we could have just taken the `list`` and converted it to a set using `set(A)`."
      ]
    },
    {
      "cell_type": "markdown",
      "metadata": {
        "id": "Hnw-TkNKt7gN"
      },
      "source": [
        "---\n",
        "## Example Application: Counting the number of unique letters in a text\n",
        "\n",
        "Consider the problem of counting the number of unique letters in a text. For example, consider the sentence\n",
        "\n",
        "    \"The fast brown fox jumps over the lazy dog.\"\n",
        "\n",
        "There are a number of ways to solve this problem. Depending on the text some ways are better (easier to implement / faster / etc) than others. So let's consider a few ways to solve this problem.\n",
        "\n",
        "Generally we will need to:\n",
        "\n",
        "* Convert string to `set` to remove duplicates.\n",
        "* The string has mixed case so convert to lower case\n",
        "  * We have a `str` method `.lower()` for this.\n",
        "* We also need to remove spaces and punctuation.\n",
        "  * We can use the `str` method `.replace()` to remove spaces and punctuation.\n",
        "  * We can use the `str` method `.isalpha()` to check if a character is a letter.\n",
        "\n"
      ]
    },
    {
      "cell_type": "markdown",
      "metadata": {
        "id": "BK8kFFhLt7gO"
      },
      "source": [
        "### Question 1\n",
        "\n",
        "Write code to count the number of distinct letters in the sentence\n",
        "\n",
        "\"The fast brown fox jumps over the lazy dog.\"\n",
        "\n",
        "**Strategy:** convert to lower case, remove spaces and punctuation, and then convert to a set. Finally output size of set."
      ]
    },
    {
      "cell_type": "code",
      "execution_count": null,
      "metadata": {
        "label": "Q1",
        "tags": [],
        "id": "y2J813-_t7gO"
      },
      "outputs": [],
      "source": [
        "#question 1\n",
        "data = \"The fast brown fox jumps over the lazy dog\"\n",
        "# Convert to lowercase\n",
        "data = data.lower()\n",
        "# Remove spaces and punctuation\n",
        "data = \"\".join(c for c in data if c.isalpha())\n",
        "# Convert to set and get size\n",
        "distinct_letters_count = len(set(data))\n",
        "print(distinct_letters_count)\n"
      ]
    },
    {
      "cell_type": "markdown",
      "metadata": {
        "id": "Xt4jzbwXt7gP"
      },
      "source": [
        "### Question 2\n",
        "\n",
        "Write code to count the number of distinct letters in the sentence\n",
        "\n",
        "\"The fast brown (and brave) fox jumps over the lzay [sic] dog, who said 'woff'!\"\n",
        "\n",
        "**Strategy:** This example has lots of punctuation so using `str` method `.replace()` to remove punctuation is not practical. Instead we can use the `str` method `.isalpha()` to check if a character is a letter, and build set using a `set` comprehension.\n"
      ]
    },
    {
      "cell_type": "code",
      "execution_count": 2,
      "metadata": {
        "label": "Q2",
        "tags": [
          "Q2"
        ],
        "id": "j2el0in_t7gQ",
        "outputId": "73dd65f9-ca8b-493b-9d59-0b302d6d1e92",
        "colab": {
          "base_uri": "https://localhost:8080/"
        }
      },
      "outputs": [
        {
          "output_type": "stream",
          "name": "stdout",
          "text": [
            "24\n"
          ]
        }
      ],
      "source": [
        "data = \"The fast brown (and brave) fox jumps over the lazy [sic] dog, who said 'woff'!\"\n",
        "distinct_letters = {char.lower() for char in data if char.isalpha()}\n",
        "distinct_letters_count = len(distinct_letters)\n",
        "print(distinct_letters_count)"
      ]
    },
    {
      "cell_type": "code",
      "source": [],
      "metadata": {
        "id": "Hv5gCprVuXBD"
      },
      "execution_count": null,
      "outputs": []
    },
    {
      "cell_type": "markdown",
      "metadata": {
        "id": "sZq3wuA-t7gQ"
      },
      "source": [
        "### Question 3\n",
        "\n",
        "Write code to count the number of distinct letters in the sentence\n",
        "\n",
        "\"The fast brown (and brave) fox jumps over the lzay [sic] dog, who said 'woff'!\"\n",
        "\n",
        "**Strategy:** Convert to lower case and convert to set as in Q1, but the resulting set then contains punctuation. So before finding the size of this set, get its intersection with the set of lower case letters. Why does this work!"
      ]
    },
    {
      "cell_type": "code",
      "execution_count": 3,
      "metadata": {
        "label": "Q3",
        "tags": [
          "Q3"
        ],
        "id": "htefr_bDt7gR",
        "outputId": "74def87b-e468-402a-e750-5d27a14519e4",
        "colab": {
          "base_uri": "https://localhost:8080/"
        }
      },
      "outputs": [
        {
          "output_type": "stream",
          "name": "stdout",
          "text": [
            "24\n"
          ]
        }
      ],
      "source": [
        "from string import ascii_lowercase\n",
        "\n",
        "data = \"The fast brown (and brave) fox jumps over the lazy [sic] dog, who said 'woff'!\"\n",
        "# Convert to lowercase and create a set\n",
        "lowercase_set = set(data.lower())\n",
        "# Get the intersection with lowercase letters\n",
        "distinct_letters = lowercase_set.intersection(ascii_lowercase)\n",
        "# Get the count\n",
        "distinct_letters_count = len(distinct_letters)\n",
        "print(distinct_letters_count)"
      ]
    },
    {
      "cell_type": "markdown",
      "metadata": {
        "id": "EINWemx7t7gR"
      },
      "source": [
        "---\n",
        "## Determining elements in common in two collections"
      ]
    },
    {
      "cell_type": "markdown",
      "metadata": {
        "id": "UQOi-BUIt7gR"
      },
      "source": [
        "### Question 4\n",
        "\n",
        "Consider the Arithmetic Progression (AP)\n",
        "\n",
        "```python\n",
        "5, 12, 19, 26, 33, 40, 47, 54, 61, 68, ..., <1000\n",
        "```\n",
        "\n",
        "and the Arithmetic Progression (AP)\n",
        "\n",
        "```python\n",
        "7, 18, 29, 40, 51, 62, 73, 84, 95, 106, ..., <1000\n",
        "```\n",
        "\n",
        "Write python code to count the number of elements in common in the two APs."
      ]
    },
    {
      "cell_type": "code",
      "source": [],
      "metadata": {
        "id": "JOt34SGAulUn"
      },
      "execution_count": null,
      "outputs": []
    },
    {
      "cell_type": "code",
      "execution_count": 4,
      "metadata": {
        "tags": [
          "Q4"
        ],
        "id": "Jy5fiUdRt7gR",
        "outputId": "79073f67-a9cf-43ff-86f9-827f78c0882b",
        "colab": {
          "base_uri": "https://localhost:8080/"
        }
      },
      "outputs": [
        {
          "output_type": "stream",
          "name": "stdout",
          "text": [
            "13\n"
          ]
        }
      ],
      "source": [
        "# Question 4\n",
        "# Define the arithmetic progressions\n",
        "ap1 = [5 + 7 * i for i in range(1000 // 7) if (5 + 7 * i) < 1000]\n",
        "ap2 = [7 + 11 * i for i in range(1000 // 11) if (7 + 11 * i) < 1000]\n",
        "\n",
        "# Find the common elements using set intersection\n",
        "common_elements = set(ap1) & set(ap2)\n",
        "\n",
        "# Count the number of common elements\n",
        "count = len(common_elements)\n",
        "\n",
        "print(count)"
      ]
    },
    {
      "cell_type": "markdown",
      "metadata": {
        "id": "gQ1NaLvht7gS"
      },
      "source": [
        "### Question 5\n",
        "\n",
        "Consider the Arithmetic Progression (AP)\n",
        "\n",
        "```python\n",
        "5, 12, 19, 26, 33, 40, 47, 54, 61, 68, ..., <1000\n",
        "```\n",
        "\n",
        "and the Arithmetic Progression (AP)\n",
        "\n",
        "```python\n",
        "7, 18, 29, 40, 51, 62, 73, 84, 95, 106, ..., <1000\n",
        "```\n",
        "\n",
        "Write python code to count the number of elements that are in the first AP or in the second but not in both APs."
      ]
    },
    {
      "cell_type": "code",
      "execution_count": 5,
      "metadata": {
        "tags": [
          "Q5"
        ],
        "id": "fYI2y3IMt7gS",
        "outputId": "9dab8804-b345-43ab-b527-bf6bbd852cd0",
        "colab": {
          "base_uri": "https://localhost:8080/"
        }
      },
      "outputs": [
        {
          "output_type": "stream",
          "name": "stdout",
          "text": [
            "206\n"
          ]
        }
      ],
      "source": [
        "# Question 5\n",
        "# Define the arithmetic progressions\n",
        "ap1 = [5 + 7 * i for i in range(1000 // 7) if (5 + 7 * i) < 1000]\n",
        "ap2 = [7 + 11 * i for i in range(1000 // 11) if (7 + 11 * i) < 1000]\n",
        "\n",
        "# Find the symmetric difference (elements in either but not both)\n",
        "symmetric_diff = set(ap1) ^ set(ap2)\n",
        "\n",
        "# Count the number of elements in the symmetric difference\n",
        "count = len(symmetric_diff)\n",
        "\n",
        "print(count)"
      ]
    },
    {
      "cell_type": "markdown",
      "metadata": {
        "id": "pizT9X6Vt7gS"
      },
      "source": [
        "### Question 6\n",
        "\n",
        "Consider the Geometric Progression (AP)\n",
        "\n",
        "```python\n",
        "3, 6, 12, 24, 48, 96, 192, 384, 768, 1536, ..., <1_000_000\n",
        "```\n",
        "\n",
        "and the Geometric Progression (AP)\n",
        "\n",
        "```python\n",
        "2, 6, 18, 54, 162, 486, 1458, ..., <1_000_000\n",
        "```\n",
        "\n",
        "Write python code to output the number of elements that are in common to both GPs. Why is this result unexpected (hopefully)?"
      ]
    },
    {
      "cell_type": "code",
      "execution_count": 6,
      "metadata": {
        "tags": [
          "Q6"
        ],
        "id": "6b51MxY-t7gS",
        "outputId": "e13c6ec0-8ab5-4468-c022-b252d8ec5e8f",
        "colab": {
          "base_uri": "https://localhost:8080/"
        }
      },
      "outputs": [
        {
          "output_type": "stream",
          "name": "stdout",
          "text": [
            "1\n"
          ]
        }
      ],
      "source": [
        "# Question 6\n",
        "# Define the geometric progressions\n",
        "gp1 = [3 * (2**i) for i in range(20) if (3 * (2**i)) < 1_000_000]\n",
        "gp2 = [2 * (3**i) for i in range(13) if (2 * (3**i)) < 1_000_000]\n",
        "\n",
        "# Find the common elements using set intersection\n",
        "common_elements = set(gp1) & set(gp2)\n",
        "\n",
        "# Count the number of common elements\n",
        "count = len(common_elements)\n",
        "\n",
        "print(count)"
      ]
    },
    {
      "cell_type": "markdown",
      "metadata": {
        "id": "JYAo6ahlt7gT"
      },
      "source": [
        "---\n",
        "## Optional Questions (Not used when grading)"
      ]
    },
    {
      "cell_type": "markdown",
      "metadata": {
        "id": "wVkukpXDt7gT"
      },
      "source": [
        "### Question 7\n",
        "\n",
        "Consider the Geometric Progression (GP)\n",
        "\n",
        "\n",
        "```python\n",
        "3, 6, 12, 24, 48, 96, 192, 384, 768, 1536, ..., <1_000_000\n",
        "```\n",
        "\n",
        "None of the terms are multiple of 5, but some are one less than a multiple of 5 (for example 24, 384, ...) and some are one more than multiples of 5 (for example 1536).\n",
        "\n",
        "Write python code to compute:\n",
        "\n",
        "* `count_one_less` = count number of terms that are one less than a multiple of 5.\n",
        "* `count_one_more` = count number of terms that are one more than a multiple of 5.\n",
        "* output the difference\n",
        "\n",
        "```python\n",
        "count_one_less - count_one_more\n",
        "```"
      ]
    },
    {
      "cell_type": "code",
      "execution_count": null,
      "metadata": {
        "tags": [
          "Q7"
        ],
        "id": "TbAXJ2TQt7gT"
      },
      "outputs": [],
      "source": [
        "# Question 7\n"
      ]
    },
    {
      "cell_type": "markdown",
      "metadata": {
        "id": "AoyT_Qu3t7gT"
      },
      "source": [
        "---\n",
        "## Review/Feedback (P05)"
      ]
    },
    {
      "cell_type": "code",
      "execution_count": 7,
      "metadata": {
        "cellView": "form",
        "label": "feedback",
        "id": "fqSA2d5lt7gU"
      },
      "outputs": [],
      "source": [
        "#@markdown This a a short questionnaire for you to provide feedback on how you think the semester is progressing and in particular for __Discrete Mathematics__, how easy/difficult, interesting/boring, useful/confusing you find the material. By completing the following you will help us improve our delivery.<br />Please enter your feedback and click on arrow at top-left to save.\n",
        "\n",
        "#@markdown **This practical**\n",
        "\n",
        "#@markdown How difficult did you find this practical?\n",
        "practical_difficulty = 'About right' #@param ['No opinion', \"Too easy', 'Easy', 'About right', 'Some bits were hard but overall it was doable', 'Too difficult', 'Impossible']\n",
        "\n",
        "#@markdown Including online session time, how long (in minutes) did it take for you to finish this practical?\n",
        "practical_duration = 10 #@param {type: \"number\"}\n",
        "\n",
        "#@markdown **This week's material**\n",
        "\n",
        "#@markdown How difficult did you find each of the following this week?\n",
        "lecture_difficulty = 'Some bits were hard but overall it was doable' #@param ['No opinion', \"Too easy', 'Easy', 'About right', 'Some bits were hard but overall it was doable', 'Too difficult', 'Impossible']\n",
        "\n",
        "tutorial_questions_difficulty = 'Some bits were hard but overall it was doable' #@param ['No opinion', \"Too easy', 'Easy', 'About right', 'Some bits were hard but overall it was doable', 'Too difficult', 'Impossible']\n",
        "\n",
        "#@markdown Use the line below to enter any comments &mdash; what you liked, what you did not like. Again all feedback is welcome.\n",
        "general_comment = \"\" #@param {type: \"string\"}"
      ]
    },
    {
      "cell_type": "code",
      "execution_count": null,
      "metadata": {
        "id": "ODiZiyyst7gU"
      },
      "outputs": [],
      "source": []
    }
  ],
  "metadata": {
    "colab": {
      "name": "DM_P05_-_Collections.ipynb",
      "provenance": [],
      "toc_visible": true,
      "include_colab_link": true
    },
    "kernelspec": {
      "display_name": "Python 3",
      "language": "python",
      "name": "python3"
    },
    "language_info": {
      "codemirror_mode": {
        "name": "ipython",
        "version": 3
      },
      "file_extension": ".py",
      "mimetype": "text/x-python",
      "name": "python",
      "nbconvert_exporter": "python",
      "pygments_lexer": "ipython3",
      "version": "3.11.5"
    },
    "toc": {
      "toc_cell": false,
      "toc_number_sections": true,
      "toc_threshold": 6,
      "toc_window_display": false
    }
  },
  "nbformat": 4,
  "nbformat_minor": 0
}