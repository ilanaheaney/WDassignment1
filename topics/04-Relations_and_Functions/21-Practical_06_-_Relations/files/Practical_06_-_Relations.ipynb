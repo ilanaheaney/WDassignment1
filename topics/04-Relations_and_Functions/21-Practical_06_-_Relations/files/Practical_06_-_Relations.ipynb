{
  "cells": [
    {
      "cell_type": "markdown",
      "metadata": {
        "id": "view-in-github",
        "colab_type": "text"
      },
      "source": [
        "<a href=\"https://colab.research.google.com/github/ilanaheaney/WDassignment1/blob/main/topics/04-Relations_and_Functions/21-Practical_06_-_Relations/files/Practical_06_-_Relations.ipynb\" target=\"_parent\"><img src=\"https://colab.research.google.com/assets/colab-badge.svg\" alt=\"Open In Colab\"/></a>"
      ]
    },
    {
      "cell_type": "markdown",
      "metadata": {
        "id": "Dajafvz5obcM",
        "label": "title"
      },
      "source": [
        "# Practical 05 - Relations"
      ]
    },
    {
      "cell_type": "markdown",
      "metadata": {
        "id": "dGUHvpDUobcN",
        "label": "setup"
      },
      "source": [
        "## Setup"
      ]
    },
    {
      "cell_type": "code",
      "execution_count": null,
      "metadata": {
        "cellView": "form",
        "id": "CXsnfskuobcN",
        "label": "bio"
      },
      "outputs": [],
      "source": [
        "#@markdown **Please enter your following details and press Shift-Enter to save:**\n",
        "your_student_number = '20112445' #@param {type: \"string\"}\n",
        "your_name = 'Ilana Heaney' #@param {type: \"string\"}"
      ]
    },
    {
      "cell_type": "code",
      "execution_count": null,
      "metadata": {
        "id": "gI-1sOMPobcN",
        "label": "setup"
      },
      "outputs": [],
      "source": [
        "# setup magic, do not edit this cell! Just press Shift+Enter or click on arrow at top-left\n",
        "\n",
        "import urllib.request\n",
        "content = urllib.request.urlretrieve (\"https://setu-discretemathematics.github.io/live/files/setup_practical_magic.py\")\n",
        "exec(open(content[0]).read())\n",
        "setup_practical(locals(),_ih)"
      ]
    },
    {
      "cell_type": "markdown",
      "metadata": {
        "id": "gIumxI6cobcN",
        "label": "Introduction"
      },
      "source": [
        "---\n",
        "## Introduction\n",
        "\n",
        "In this practical we will construct relations and use python to verify their properties"
      ]
    },
    {
      "cell_type": "markdown",
      "metadata": {
        "id": "33Q2c3APobcN"
      },
      "source": [
        "### Mathematics Concepts\n",
        "\n",
        "**Cartesian product**\n",
        "\n",
        " * The __Cartesian product__ of two sets, $A$ and $B$, is\n",
        "$$A \\times B = \\{ (a,b) \\mid  a\\in A, b\\in B\\}$$\n",
        "or in English, it is the set of pairs of __ordered__ values. \"Ordered\" means that the first value in the pair is from the first set, $A$, and the second value is from the second set $B$.\n",
        "\n",
        " * The __Cartesian product__ of a set, $A$ with itself is\n",
        "$$A \\times A = \\{ (a,b) \\mid a\\in A, b\\in A\\}$$\n",
        "or in English, it is the set of pairs of ordered values, the first value is from set $A$ and the second value is from set $A$.\n",
        "\n",
        "**Relations**\n",
        "\n",
        "  * A __relation__ from set $A$ to set $B$ is a subset of the __Cartesian product__ $A \\times B$.\n",
        "    * Hence we can use the subset property to check if something is a relation or not.\n",
        "    * General expression for a relation from set $A$ to set $B$ is\n",
        "    $$ R = \\{ (a,b) \\mid  a\\in A, b\\in B\\ \\text{with}\\ SOME\\_CONDITION \\} $$\n",
        "  \n",
        "  * Relations on a set have properties such as (check your notes for precise definitions).\n",
        "    * symmetric, reflexive, transitive\n",
        "    * irreflexive, asymmetric, anti-symmetric\n",
        "    \n"
      ]
    },
    {
      "cell_type": "markdown",
      "metadata": {
        "id": "0vNLy3ZBobcO"
      },
      "source": [
        "### Python Concepts\n",
        "\n",
        " * Cartesian product\n",
        " * Relations\n",
        "   * Checking relations using the `issubset` property of sets.\n",
        "   * Checking properties of relations using python programming\n",
        "\n",
        "From earlier practicals:\n",
        "\n",
        " * Set builder notation, check membership using `in` operator.\n",
        " * Using `len` to check for cardinality.\n",
        " * Using sets to check for duplicates &mdash; remember converting a `list` to `set` and results in fewer elements if there are duplicates.\n",
        "\n",
        ""
      ]
    },
    {
      "cell_type": "markdown",
      "metadata": {
        "id": "gE6P3C-VobcO"
      },
      "source": [
        "---\n",
        "## Cartesian Product  \n",
        "\n",
        " * The __Cartesian product__ of two sets, `A` and `B`, in python is\n",
        "\n",
        "~~~python\n",
        "    { (a,b) for a in A for b in B }\n",
        "~~~\n",
        "\n",
        " * The __Cartesian product__ of a set, `A` with itself, in python is\n",
        "\n",
        "~~~python\n",
        "    { (a,b) for a in A for b in A }\n",
        "~~~\n",
        "   Note: Just like in the Mathematics version above we needed to use a second symbol (here `b`) to represent the second value in the ordered pair.\n",
        "\n",
        "Finally to output the number of elements in a set (or a relation), `S`, we can use a `print` call.\n",
        "\n",
        "~~~python\n",
        "print(\"Number of elements in S =\", len(S))\n",
        "~~~"
      ]
    },
    {
      "cell_type": "markdown",
      "metadata": {
        "id": "t1PZ9jnUobcO"
      },
      "source": [
        "### Question 1\n",
        "\n",
        "To simply matters later we will start by defining some sets that will be used in subsequent questions.\n",
        "\n",
        "Define the following sets in python, and print them with a label and print out its size. (The first set is done for you.)\n",
        "\n",
        " * Define set `A`, the set of positive integers less than or equal to 20, i.e., $A = \\{1,\\ldots,20\\}$\n",
        " * Define set `P`, the set of prime numbers less than or equal to 20. (there are only 8 so you can just list them)\n",
        " * Define set `V`, the set of lowercase vowels. Remember you need the put characters within quotes in python.\n",
        " * Define set `D`, the set of digits (0 to 9).\n",
        " * Define set `E`, the empty set.\n"
      ]
    },
    {
      "cell_type": "code",
      "execution_count": 1,
      "metadata": {
        "id": "atuZEJKEobcO",
        "label": "Q0",
        "tags": [
          "Q1"
        ],
        "outputId": "a908a0e6-9d0e-44e5-a31c-40b6a8215074",
        "colab": {
          "base_uri": "https://localhost:8080/"
        }
      },
      "outputs": [
        {
          "output_type": "stream",
          "name": "stdout",
          "text": [
            "A = {1, 2, 3, 4, 5, 6, 7, 8, 9, 10, 11, 12, 13, 14, 15, 16, 17, 18, 19, 20} \n",
            "Number of elements = 20\n",
            "P = {2, 3, 5, 7, 11, 13, 17, 19} \n",
            "Number of elements = 8\n",
            "V = {'e', 'o', 'a', 'i', 'u'} \n",
            "Number of elements = 5\n",
            "D = {0, 1, 2, 3, 4, 5, 6, 7, 8, 9} \n",
            "Number of elements = 10\n",
            "E = set() \n",
            "Number of elements = 0\n"
          ]
        }
      ],
      "source": [
        "# Question 1\n",
        "\n",
        "# Set A: Positive integers less than or equal to 20\n",
        "A = set(range(1, 21))\n",
        "\n",
        "# Set P: Prime numbers less than or equal to 20\n",
        "P = {2, 3, 5, 7, 11, 13, 17, 19}\n",
        "\n",
        "# Set V: Lowercase vowels\n",
        "V = {'a', 'e', 'i', 'o', 'u'}\n",
        "\n",
        "# Set D: Digits (0 to 9)\n",
        "D = set(range(0, 10))\n",
        "\n",
        "# Set E: The empty set\n",
        "E = set()\n",
        "\n",
        "print(\"A =\", A, \"\\nNumber of elements =\", len(A))\n",
        "print(\"P =\", P, \"\\nNumber of elements =\", len(P))\n",
        "print(\"V =\", V, \"\\nNumber of elements =\", len(V))\n",
        "print(\"D =\", D, \"\\nNumber of elements =\", len(D))\n",
        "print(\"E =\", E, \"\\nNumber of elements =\", len(E))"
      ]
    },
    {
      "cell_type": "markdown",
      "metadata": {
        "id": "dRvaBCsLobcO"
      },
      "source": [
        "### Question 2\n",
        "\n",
        "Define set `C` as the Cartesian product of the set `A` and the set `V` (from Question 1).\n",
        "Print out `C` and print out the size of `C`.\n",
        "\n",
        "Notes on answer:\n",
        "\n",
        " * The Cartesian set becomes very large when input sets are large.\n",
        " * The pairs contain ordered values - \"ordered\" is not the same as \"sorted\". Ordered here means that within each pair the first value (a number) comes form the first set, and the second value (a letter) comes from the second set.\n",
        " * The \"pairs contain ordered values\" is different to saying \"the pairs are ordered\". In fact, since a Cartesian product is a set the  order of the pairs is not a concern."
      ]
    },
    {
      "cell_type": "code",
      "execution_count": 2,
      "metadata": {
        "id": "eC0CoL88obcO",
        "tags": [
          "Q2"
        ],
        "outputId": "fce31b98-deb0-491f-de1c-419879e21e5b",
        "colab": {
          "base_uri": "https://localhost:8080/"
        }
      },
      "outputs": [
        {
          "output_type": "stream",
          "name": "stdout",
          "text": [
            "C = {(10, 'u'), (17, 'a'), (16, 'e'), (1, 'i'), (20, 'e'), (3, 'u'), (3, 'i'), (14, 'i'), (5, 'a'), (6, 'e'), (16, 'u'), (16, 'i'), (7, 'a'), (18, 'a'), (20, 'i'), (10, 'e'), (15, 'o'), (9, 'a'), (6, 'u'), (13, 'a'), (12, 'e'), (17, 'o'), (4, 'o'), (10, 'i'), (19, 'o'), (1, 'a'), (12, 'u'), (5, 'o'), (12, 'i'), (3, 'a'), (14, 'a'), (2, 'e'), (7, 'o'), (18, 'o'), (16, 'a'), (4, 'e'), (20, 'a'), (8, 'e'), (19, 'e'), (13, 'o'), (11, 'o'), (15, 'u'), (2, 'u'), (2, 'i'), (6, 'i'), (4, 'u'), (4, 'i'), (8, 'u'), (1, 'o'), (19, 'u'), (8, 'i'), (19, 'i'), (10, 'a'), (3, 'o'), (14, 'o'), (5, 'u'), (12, 'a'), (11, 'e'), (15, 'e'), (20, 'o'), (17, 'e'), (1, 'e'), (9, 'o'), (11, 'u'), (11, 'i'), (2, 'a'), (15, 'i'), (6, 'a'), (5, 'e'), (17, 'u'), (10, 'o'), (4, 'a'), (17, 'i'), (1, 'u'), (8, 'a'), (19, 'a'), (7, 'e'), (18, 'e'), (12, 'o'), (14, 'u'), (9, 'e'), (5, 'i'), (13, 'e'), (16, 'o'), (20, 'u'), (7, 'u'), (18, 'u'), (7, 'i'), (18, 'i'), (9, 'u'), (2, 'o'), (9, 'i'), (13, 'u'), (6, 'o'), (11, 'a'), (13, 'i'), (15, 'a'), (3, 'e'), (14, 'e'), (8, 'o')}\n",
            "Number of elements in C = 100\n"
          ]
        }
      ],
      "source": [
        "# Question 2\n",
        "# Define set C as the Cartesian product of A and V\n",
        "C = {(a, v) for a in A for v in V}\n",
        "\n",
        "# Print set C and its size\n",
        "print(\"C =\", C)\n",
        "print(\"Number of elements in C =\", len(C))"
      ]
    },
    {
      "cell_type": "markdown",
      "metadata": {
        "id": "5shfOgLsobcO",
        "tags": []
      },
      "source": [
        "### Question 3 (Cartesian product with empty sets)\n",
        "\n",
        "For each of the following, write python to generate the Cartesian product, print out the resulting set and its number of elements.\n",
        "\n",
        " * $C = A \\times E$\n",
        " * $C = E \\times A$\n",
        " * $C = E \\times E$"
      ]
    },
    {
      "cell_type": "code",
      "execution_count": 3,
      "metadata": {
        "id": "zaGBqPjPobcO",
        "tags": [
          "Q3"
        ],
        "outputId": "c291f47f-88d2-48c0-b434-a015f67d77d7",
        "colab": {
          "base_uri": "https://localhost:8080/"
        }
      },
      "outputs": [
        {
          "output_type": "stream",
          "name": "stdout",
          "text": [
            "C1 (A x E) = set()\n",
            "Number of elements in C1 = 0\n",
            "\n",
            "C2 (E x A) = set()\n",
            "Number of elements in C2 = 0\n",
            "\n",
            "C3 (E x E) = set()\n",
            "Number of elements in C3 = 0\n"
          ]
        }
      ],
      "source": [
        "# Question 3\n",
        "# Case 1: C = A x E\n",
        "C1 = {(a, e) for a in A for e in E}\n",
        "print(\"C1 (A x E) =\", C1)\n",
        "print(\"Number of elements in C1 =\", len(C1))\n",
        "\n",
        "# Case 2: C = E x A\n",
        "C2 = {(e, a) for e in E for a in A}\n",
        "print(\"\\nC2 (E x A) =\", C2)\n",
        "print(\"Number of elements in C2 =\", len(C2))\n",
        "\n",
        "# Case 3: C = E x E\n",
        "C3 = {(e1, e2) for e1 in E for e2 in E}\n",
        "print(\"\\nC3 (E x E) =\", C3)\n",
        "print(\"Number of elements in C3 =\", len(C3))"
      ]
    },
    {
      "cell_type": "markdown",
      "metadata": {
        "id": "HL31e30KobcO"
      },
      "source": [
        "---\n",
        "## Relations\n",
        "\n",
        " * A __Relation__ from set `A` to set `B`, in python can be written as\n",
        "\n",
        "~~~python\n",
        "    R = { (a, b) for a in A for b in B if CONDITION }\n",
        "~~~\n",
        "\n",
        "where\n",
        "\n",
        " * `CONDITION` can be any boolean expression involving `a` and `b`. Or can be dropped entirely.\n",
        "     \n",
        "\n",
        " * A __Relation__ on set `A` in python can be written as\n",
        "\n",
        "~~~python\n",
        "    R = { (a, b) for a in A for b in A if CONDITION }\n",
        "~~~\n",
        "\n",
        " * Again, note the different symbol for the elements from the second set.\n"
      ]
    },
    {
      "cell_type": "markdown",
      "metadata": {
        "id": "miGSbNwvobcO"
      },
      "source": [
        "### Example\n",
        "\n",
        "Consider, $R$, the relation _\"has the same remainder when divided by 5\"_ on the set D (defined in Question 1).  \n",
        "\n",
        " * Implement this relation in python.\n",
        " * Print the relation and its number of elements (pairs).\n",
        " * Verify that $R$ is a subset of $D\\times D$, but is not a subset of $A\\times A$ (defined in Question 1)."
      ]
    },
    {
      "cell_type": "code",
      "execution_count": null,
      "metadata": {
        "id": "1hgcwI-xobcO"
      },
      "outputs": [],
      "source": [
        "# Implement this relation in python\n",
        "\n",
        "R = { (a,b) for a in D for b in D if a%5==b%5}"
      ]
    },
    {
      "cell_type": "code",
      "execution_count": null,
      "metadata": {
        "id": "W4s5pckBobcP"
      },
      "outputs": [],
      "source": [
        "# Print the relation and its number of elements (pairs)\n",
        "\n",
        "print(\"R =\", R, \"\\nNumber of elements =\", len(R))"
      ]
    },
    {
      "cell_type": "code",
      "execution_count": null,
      "metadata": {
        "id": "jEqk-RYyobcP"
      },
      "outputs": [],
      "source": [
        "# Verify that 𝑅 is a subset of DxD\n",
        "\n",
        "DxD = { (a,b) for a in D for b in D }\n",
        "print(\"Is R a subset of DxD?\", R.issubset(DxD) )"
      ]
    },
    {
      "cell_type": "code",
      "execution_count": null,
      "metadata": {
        "id": "09WJfLV6obcP"
      },
      "outputs": [],
      "source": [
        "# Verify that 𝑅 is not a subset of AxA\n",
        "\n",
        "AxA = { (a,b) for a in A for b in A }\n",
        "print(\"Is R a subset of AxA?\", R.issubset(AxA) )\n",
        "\n",
        "# (for extra points) Why is R not a subset of AxA? What pairs are \"causing the problem?\"\n",
        "\n",
        "# To answer this we build a set of pairs NOT in AxA\n",
        "\n",
        "pairs = { pair for pair in R if pair not in AxA }\n",
        "\n",
        "print(\"R is not a subset of AxA because R contains the following pairs (which are not in AxA)\", pairs)"
      ]
    },
    {
      "cell_type": "markdown",
      "metadata": {
        "id": "e6QRltySobcP"
      },
      "source": [
        "### Question 4\n",
        "\n",
        "Consider R, a relation from $A$ to $D$ (both defined in Question 1) defined by\n",
        "\n",
        "$$ R = \\{(a,d) \\mid a \\in A, d \\in D, \\text{where}\\  a>d  \\} $$\n",
        "\n",
        " * Implement $R$ in python\n",
        " * Print out $R$ and its number of elements.\n",
        " * Verify that $R$ is a subset of $A\\times D$, but $R$ is not a subset of $D\\times A$."
      ]
    },
    {
      "cell_type": "code",
      "execution_count": null,
      "metadata": {
        "id": "_LP5fsMxobcP",
        "tags": [
          "Q4"
        ]
      },
      "outputs": [],
      "source": [
        "# Question 4\n",
        "# Implement relation R\n",
        "R = {(a, d) for a in A for d in D if a > d}\n",
        "\n",
        "# Print R and its number of elements\n",
        "print(\"R =\", R)\n",
        "print(\"Number of elements in R =\", len(R))\n",
        "\n",
        "# Verify subset relationships\n",
        "AxD = {(a, d) for a in A for d in D}  # Cartesian product A x D\n",
        "DxA = {(d, a) for d in D for a in A}  # Cartesian product D x A\n",
        "\n",
        "print(\"\\nIs R a subset of A x D?\", R.issubset(AxD))\n",
        "print(\"Is R a subset of D x A?\", R.issubset(DxA))"
      ]
    },
    {
      "cell_type": "markdown",
      "metadata": {
        "id": "Tr_oJPG9obcP"
      },
      "source": [
        "### Question 5\n",
        "\n",
        "Consider, $R$, the relation _\"comes before it in the alphabet\"_ on $V$, the set of vowels (defined in question 1),\n",
        "\n",
        "$$  R = \\{(a,b) \\mid a \\in V, b \\in V \\text{ where } a<b \\} $$\n",
        "\n",
        " * Implement this relation in python. Note operator `<` works with letters (if both are lower (or upper) case)  \n",
        " * Output the relation and its size.\n",
        " * Verify that $R$ is a subset of $V\\times V$."
      ]
    },
    {
      "cell_type": "code",
      "execution_count": null,
      "metadata": {
        "id": "djFsK-0QobcP",
        "label": "Q2",
        "tags": [
          "Q5"
        ]
      },
      "outputs": [],
      "source": [
        "# Question 5\n",
        "# Implement relation R\n",
        "R = {(a, b) for a in V for b in V if a < b}\n",
        "\n",
        "# Output R and its size\n",
        "print(\"R =\", R)\n",
        "print(\"Number of elements in R =\", len(R))\n",
        "\n",
        "# Verify subset relationship\n",
        "VxV = {(a, b) for a in V for b in V}  # Cartesian product V x V\n",
        "\n",
        "print(\"\\nIs R a subset of V x V?\", R.issubset(VxV))"
      ]
    },
    {
      "cell_type": "markdown",
      "metadata": {
        "id": "CcKA5AcwobcP"
      },
      "source": [
        "---\n",
        "## Properties of Relations (Harder questions)\n",
        "\n",
        "These questions are a little harder as they require you to combine multiple concepts to generate the required result."
      ]
    },
    {
      "cell_type": "markdown",
      "metadata": {
        "id": "DXn0eeARobcP"
      },
      "source": [
        "### Question 6 (reflexive)\n",
        "\n",
        "Consider, $R$, the relation implemented in question 6, i.e.,\n",
        "\n",
        "$$  R = \\{(a,b) \\mid a \\in V, b \\in V \\text{ where } a<b \\} $$\n",
        "\n",
        " * Write code to test whether this relation is reflexive.  \n",
        "\n",
        "\n",
        "Hint: generate a set of pairs of the form $(a,a)$ where $a \\in V$ and check if the generated set is a subset of $R$.\n",
        ""
      ]
    },
    {
      "cell_type": "code",
      "execution_count": null,
      "metadata": {
        "id": "YZKd1CjhobcP",
        "label": "Q3",
        "tags": [
          "Q6"
        ]
      },
      "outputs": [],
      "source": [
        "# Question 6\n",
        "# Generate set of pairs (a, a) for a in V\n",
        "reflexive_pairs = {(a, a) for a in V}\n",
        "\n",
        "# Check if reflexive_pairs is a subset of R\n",
        "is_reflexive = reflexive_pairs.issubset(R)\n",
        "\n",
        "# Print the result\n",
        "print(\"Is R reflexive?\", is_reflexive)"
      ]
    },
    {
      "cell_type": "markdown",
      "metadata": {
        "id": "GoQkI01-obcQ"
      },
      "source": [
        "### Question 7 (symmetric)\n",
        "\n",
        "Consider, $R$, the relation implemented in question 6, i.e.,\n",
        "\n",
        "$$  R = \\{(a,b) \\mid a \\in V, b \\in V \\text{ where } a<b \\} $$\n",
        "\n",
        "\n",
        " * Write code to test whether this relation is symmetric.\n",
        "\n",
        "Hint: Generate a set of pairs with the order of the elements reversed. Then check that this set is a subset of $R$.\n",
        "\n",
        "To generate a set of pairs with the order of the elements reversed, you could use\n",
        "\n",
        "~~~python\n",
        "   K = { (b,a) for (a,b) in R }\n",
        "~~~\n",
        ""
      ]
    },
    {
      "cell_type": "code",
      "execution_count": 4,
      "metadata": {
        "id": "IybXeWvCobcQ",
        "label": "Q3",
        "tags": [
          "Q7"
        ],
        "outputId": "021942d4-cbe8-4448-dfbe-2a8837ec2450",
        "colab": {
          "base_uri": "https://localhost:8080/",
          "height": 216
        }
      },
      "outputs": [
        {
          "output_type": "error",
          "ename": "NameError",
          "evalue": "name 'R' is not defined",
          "traceback": [
            "\u001b[0;31m---------------------------------------------------------------------------\u001b[0m",
            "\u001b[0;31mNameError\u001b[0m                                 Traceback (most recent call last)",
            "\u001b[0;32m<ipython-input-4-5ae07ee1acd9>\u001b[0m in \u001b[0;36m<cell line: 3>\u001b[0;34m()\u001b[0m\n\u001b[1;32m      1\u001b[0m \u001b[0;31m# Question 7\u001b[0m\u001b[0;34m\u001b[0m\u001b[0;34m\u001b[0m\u001b[0m\n\u001b[1;32m      2\u001b[0m \u001b[0;31m# Generate set of pairs with reversed order\u001b[0m\u001b[0;34m\u001b[0m\u001b[0;34m\u001b[0m\u001b[0m\n\u001b[0;32m----> 3\u001b[0;31m \u001b[0mreversed_pairs\u001b[0m \u001b[0;34m=\u001b[0m \u001b[0;34m{\u001b[0m\u001b[0;34m(\u001b[0m\u001b[0mb\u001b[0m\u001b[0;34m,\u001b[0m \u001b[0ma\u001b[0m\u001b[0;34m)\u001b[0m \u001b[0;32mfor\u001b[0m \u001b[0;34m(\u001b[0m\u001b[0ma\u001b[0m\u001b[0;34m,\u001b[0m \u001b[0mb\u001b[0m\u001b[0;34m)\u001b[0m \u001b[0;32min\u001b[0m \u001b[0mR\u001b[0m\u001b[0;34m}\u001b[0m\u001b[0;34m\u001b[0m\u001b[0;34m\u001b[0m\u001b[0m\n\u001b[0m\u001b[1;32m      4\u001b[0m \u001b[0;34m\u001b[0m\u001b[0m\n\u001b[1;32m      5\u001b[0m \u001b[0;31m# Check if reversed_pairs is a subset of R\u001b[0m\u001b[0;34m\u001b[0m\u001b[0;34m\u001b[0m\u001b[0m\n",
            "\u001b[0;31mNameError\u001b[0m: name 'R' is not defined"
          ]
        }
      ],
      "source": [
        "# Question 7\n",
        "# Generate set of pairs with reversed order\n",
        "reversed_pairs = {(b, a) for (a, b) in R}\n",
        "\n",
        "# Check if reversed_pairs is a subset of R\n",
        "is_symmetric = reversed_pairs.issubset(R)\n",
        "\n",
        "# Print the result\n",
        "print(\"Is R symmetric?\", is_symmetric)"
      ]
    },
    {
      "cell_type": "markdown",
      "metadata": {
        "id": "BMH-XP09obcQ"
      },
      "source": [
        "---\n",
        "## Optional &mdash; Other properties of Relations (Even Harder questions)\n",
        "\n",
        "Due to time constraints we have not covered the transitive property or the irreflexive, asymmetric, and anti-symmetric properties. All of these properties can be implemented in python using code similar to that used in the previous two questions. Feel free to implement\n"
      ]
    },
    {
      "cell_type": "markdown",
      "metadata": {
        "id": "VpdcGge7obcQ"
      },
      "source": [
        "### Question 8 (transitive)\n",
        "\n",
        "Consider, $R$, the relation implemented in question 6, i.e.,\n",
        "\n",
        "$$  R = \\{(a,b) \\mid a \\in V, b \\in V \\text{ where } a<b \\} $$\n",
        "\n",
        "\n",
        " * Write code to test whether this relation is transitive."
      ]
    },
    {
      "cell_type": "code",
      "execution_count": null,
      "metadata": {
        "id": "uDjwEi8bobcQ",
        "tags": [
          "Q8"
        ]
      },
      "outputs": [],
      "source": [
        "# Question 8\n"
      ]
    },
    {
      "cell_type": "markdown",
      "metadata": {
        "id": "Vm1oxTv-obcQ"
      },
      "source": [
        "### Question 9 (asymmetric)\n",
        "\n",
        "Consider, $R$, the relation implemented in question 6, i.e.,\n",
        "\n",
        "$$  R = \\{(a,b) \\mid a \\in V, b \\in V \\text{ where } a<b \\} $$\n",
        "\n",
        "\n",
        " * Write code to test whether this relation is asymmetric."
      ]
    },
    {
      "cell_type": "code",
      "execution_count": null,
      "metadata": {
        "id": "LkqImU6YobcQ",
        "tags": [
          "Q9"
        ]
      },
      "outputs": [],
      "source": [
        "# Question 9\n"
      ]
    },
    {
      "cell_type": "markdown",
      "metadata": {
        "id": "kW1xTDTnobcQ"
      },
      "source": [
        "### Question 10 (transitive)\n",
        "\n",
        "Consider, $R$, the relation implemented in question 6, i.e.,\n",
        "\n",
        "$$  R = \\{(a,b) \\mid a \\in V, b \\in V \\text{ where } a<b \\} $$\n",
        "\n",
        "\n",
        " * Write code to test whether this relation is transitive."
      ]
    },
    {
      "cell_type": "code",
      "execution_count": null,
      "metadata": {
        "id": "Cx2fyUwDobcQ",
        "tags": [
          "Q10"
        ]
      },
      "outputs": [],
      "source": [
        "# Question 10\n"
      ]
    },
    {
      "cell_type": "markdown",
      "metadata": {
        "id": "ufMvKIZKobcQ"
      },
      "source": [
        "### Question 11 (anti-symmetric)\n",
        "\n",
        "Consider, $R$, the relation implemented in question 6, i.e.,\n",
        "\n",
        "$$  R = \\{(a,b) \\mid a \\in V, b \\in V \\text{ where } a<b \\} $$\n",
        "\n",
        "\n",
        " * Write code to test whether this relation is anti-symmetric."
      ]
    },
    {
      "cell_type": "code",
      "execution_count": null,
      "metadata": {
        "id": "s5_vFEnrobcQ",
        "tags": [
          "Q11"
        ]
      },
      "outputs": [],
      "source": [
        "# Question 11\n"
      ]
    },
    {
      "cell_type": "markdown",
      "metadata": {
        "id": "Fupb7zMXobcQ"
      },
      "source": [
        "---\n",
        "## Review/Feedback (P06)"
      ]
    },
    {
      "cell_type": "code",
      "execution_count": 5,
      "metadata": {
        "cellView": "form",
        "id": "2TW5QrGFobcQ"
      },
      "outputs": [],
      "source": [
        "#@markdown This a a short questionnaire for you to provide feedback on how you think the semester is progressing and in particular for __Discrete Mathematics__, how easy/difficult, interesting/boring, useful/confusing you find the material. By completing the following you will help us improve our delivery.<br />Please enter your feedback and click on arrow at top-left to save.\n",
        "\n",
        "#@markdown **This practical**\n",
        "\n",
        "#@markdown How difficult did you find this practical?\n",
        "practical_difficulty = 'Too difficult' #@param ['No opinion', \"Too easy', 'Easy', 'About right', 'Some bits were hard but overall it was doable', 'Too difficult', 'Impossible']\n",
        "\n",
        "#@markdown Including online session time, how long (in minutes) did it take for you to finish this practical?\n",
        "practical_duration = 15 #@param {type: \"number\"}\n",
        "\n",
        "#@markdown **This week's material**\n",
        "\n",
        "#@markdown How difficult did you find each of the following this week?\n",
        "lecture_difficulty = 'Some bits were hard but overall it was doable' #@param ['No opinion', \"Too easy', 'Easy', 'About right', 'Some bits were hard but overall it was doable', 'Too difficult', 'Impossible']\n",
        "\n",
        "tutorial_questions_difficulty = 'Some bits were hard but overall it was doable' #@param ['No opinion', \"Too easy', 'Easy', 'About right', 'Some bits were hard but overall it was doable', 'Too difficult', 'Impossible']\n",
        "\n",
        "#@markdown Use the line below to enter any comments &mdash; what you liked, what you did not like. Again all feedback is welcome.\n",
        "general_comment = \"\" #@param {type: \"string\"}"
      ]
    },
    {
      "cell_type": "code",
      "source": [],
      "metadata": {
        "id": "Em4hyc5fxkEX"
      },
      "execution_count": null,
      "outputs": []
    }
  ],
  "metadata": {
    "colab": {
      "name": "DM_P05_-_Relations.ipynb",
      "provenance": [],
      "include_colab_link": true
    },
    "kernelspec": {
      "display_name": "Python 3",
      "language": "python",
      "name": "python3"
    },
    "language_info": {
      "codemirror_mode": {
        "name": "ipython",
        "version": 3
      },
      "file_extension": ".py",
      "mimetype": "text/x-python",
      "name": "python",
      "nbconvert_exporter": "python",
      "pygments_lexer": "ipython3",
      "version": "3.10.11"
    },
    "toc": {
      "toc_cell": false,
      "toc_number_sections": true,
      "toc_threshold": 6,
      "toc_window_display": false
    },
    "toc-autonumbering": false
  },
  "nbformat": 4,
  "nbformat_minor": 0
}